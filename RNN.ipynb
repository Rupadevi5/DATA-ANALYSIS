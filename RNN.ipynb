{
  "nbformat": 4,
  "nbformat_minor": 0,
  "metadata": {
    "colab": {
      "provenance": []
    },
    "kernelspec": {
      "name": "python3",
      "display_name": "Python 3"
    },
    "language_info": {
      "name": "python"
    }
  },
  "cells": [
    {
      "cell_type": "code",
      "execution_count": 1,
      "metadata": {
        "colab": {
          "base_uri": "https://localhost:8080/"
        },
        "id": "Ebk37lGDcv1A",
        "outputId": "82c959e7-7517-4311-804a-3b1094d0883b"
      },
      "outputs": [
        {
          "output_type": "stream",
          "name": "stdout",
          "text": [
            "Epoch 1/50\n",
            "1/1 - 2s - loss: 2.4597 - accuracy: 0.2000 - 2s/epoch - 2s/step\n",
            "Epoch 2/50\n",
            "1/1 - 0s - loss: 2.3703 - accuracy: 0.3000 - 10ms/epoch - 10ms/step\n",
            "Epoch 3/50\n",
            "1/1 - 0s - loss: 2.2828 - accuracy: 0.6000 - 10ms/epoch - 10ms/step\n",
            "Epoch 4/50\n",
            "1/1 - 0s - loss: 2.1952 - accuracy: 0.5000 - 10ms/epoch - 10ms/step\n",
            "Epoch 5/50\n",
            "1/1 - 0s - loss: 2.1067 - accuracy: 0.5000 - 11ms/epoch - 11ms/step\n",
            "Epoch 6/50\n",
            "1/1 - 0s - loss: 2.0181 - accuracy: 0.5000 - 15ms/epoch - 15ms/step\n",
            "Epoch 7/50\n",
            "1/1 - 0s - loss: 1.9310 - accuracy: 0.5000 - 13ms/epoch - 13ms/step\n",
            "Epoch 8/50\n",
            "1/1 - 0s - loss: 1.8470 - accuracy: 0.4000 - 11ms/epoch - 11ms/step\n",
            "Epoch 9/50\n",
            "1/1 - 0s - loss: 1.7656 - accuracy: 0.4000 - 10ms/epoch - 10ms/step\n",
            "Epoch 10/50\n",
            "1/1 - 0s - loss: 1.6839 - accuracy: 0.4000 - 11ms/epoch - 11ms/step\n",
            "Epoch 11/50\n",
            "1/1 - 0s - loss: 1.6005 - accuracy: 0.5000 - 11ms/epoch - 11ms/step\n",
            "Epoch 12/50\n",
            "1/1 - 0s - loss: 1.5174 - accuracy: 0.5000 - 11ms/epoch - 11ms/step\n",
            "Epoch 13/50\n",
            "1/1 - 0s - loss: 1.4391 - accuracy: 0.6000 - 10ms/epoch - 10ms/step\n",
            "Epoch 14/50\n",
            "1/1 - 0s - loss: 1.3692 - accuracy: 0.6000 - 11ms/epoch - 11ms/step\n",
            "Epoch 15/50\n",
            "1/1 - 0s - loss: 1.3078 - accuracy: 0.7000 - 13ms/epoch - 13ms/step\n",
            "Epoch 16/50\n",
            "1/1 - 0s - loss: 1.2524 - accuracy: 0.7000 - 11ms/epoch - 11ms/step\n",
            "Epoch 17/50\n",
            "1/1 - 0s - loss: 1.2003 - accuracy: 0.7000 - 11ms/epoch - 11ms/step\n",
            "Epoch 18/50\n",
            "1/1 - 0s - loss: 1.1504 - accuracy: 0.7000 - 11ms/epoch - 11ms/step\n",
            "Epoch 19/50\n",
            "1/1 - 0s - loss: 1.1034 - accuracy: 0.7000 - 11ms/epoch - 11ms/step\n",
            "Epoch 20/50\n",
            "1/1 - 0s - loss: 1.0604 - accuracy: 0.7000 - 11ms/epoch - 11ms/step\n",
            "Epoch 21/50\n",
            "1/1 - 0s - loss: 1.0217 - accuracy: 0.7000 - 10ms/epoch - 10ms/step\n",
            "Epoch 22/50\n",
            "1/1 - 0s - loss: 0.9858 - accuracy: 0.7000 - 11ms/epoch - 11ms/step\n",
            "Epoch 23/50\n",
            "1/1 - 0s - loss: 0.9512 - accuracy: 0.7000 - 12ms/epoch - 12ms/step\n",
            "Epoch 24/50\n",
            "1/1 - 0s - loss: 0.9179 - accuracy: 0.7000 - 12ms/epoch - 12ms/step\n",
            "Epoch 25/50\n",
            "1/1 - 0s - loss: 0.8868 - accuracy: 0.7000 - 12ms/epoch - 12ms/step\n",
            "Epoch 26/50\n",
            "1/1 - 0s - loss: 0.8581 - accuracy: 0.7000 - 12ms/epoch - 12ms/step\n",
            "Epoch 27/50\n",
            "1/1 - 0s - loss: 0.8312 - accuracy: 0.7000 - 11ms/epoch - 11ms/step\n",
            "Epoch 28/50\n",
            "1/1 - 0s - loss: 0.8056 - accuracy: 0.7000 - 11ms/epoch - 11ms/step\n",
            "Epoch 29/50\n",
            "1/1 - 0s - loss: 0.7808 - accuracy: 0.7000 - 11ms/epoch - 11ms/step\n",
            "Epoch 30/50\n",
            "1/1 - 0s - loss: 0.7571 - accuracy: 0.7000 - 11ms/epoch - 11ms/step\n",
            "Epoch 31/50\n",
            "1/1 - 0s - loss: 0.7350 - accuracy: 0.7000 - 11ms/epoch - 11ms/step\n",
            "Epoch 32/50\n",
            "1/1 - 0s - loss: 0.7142 - accuracy: 0.7000 - 10ms/epoch - 10ms/step\n",
            "Epoch 33/50\n",
            "1/1 - 0s - loss: 0.6944 - accuracy: 0.7000 - 11ms/epoch - 11ms/step\n",
            "Epoch 34/50\n",
            "1/1 - 0s - loss: 0.6754 - accuracy: 0.7000 - 10ms/epoch - 10ms/step\n",
            "Epoch 35/50\n",
            "1/1 - 0s - loss: 0.6574 - accuracy: 0.8000 - 11ms/epoch - 11ms/step\n",
            "Epoch 36/50\n",
            "1/1 - 0s - loss: 0.6404 - accuracy: 0.8000 - 11ms/epoch - 11ms/step\n",
            "Epoch 37/50\n",
            "1/1 - 0s - loss: 0.6243 - accuracy: 0.8000 - 11ms/epoch - 11ms/step\n",
            "Epoch 38/50\n",
            "1/1 - 0s - loss: 0.6087 - accuracy: 0.8000 - 11ms/epoch - 11ms/step\n",
            "Epoch 39/50\n",
            "1/1 - 0s - loss: 0.5937 - accuracy: 0.8000 - 15ms/epoch - 15ms/step\n",
            "Epoch 40/50\n",
            "1/1 - 0s - loss: 0.5792 - accuracy: 0.8000 - 11ms/epoch - 11ms/step\n",
            "Epoch 41/50\n",
            "1/1 - 0s - loss: 0.5652 - accuracy: 0.8000 - 10ms/epoch - 10ms/step\n",
            "Epoch 42/50\n",
            "1/1 - 0s - loss: 0.5516 - accuracy: 0.8000 - 11ms/epoch - 11ms/step\n",
            "Epoch 43/50\n",
            "1/1 - 0s - loss: 0.5383 - accuracy: 0.8000 - 16ms/epoch - 16ms/step\n",
            "Epoch 44/50\n",
            "1/1 - 0s - loss: 0.5252 - accuracy: 0.8000 - 11ms/epoch - 11ms/step\n",
            "Epoch 45/50\n",
            "1/1 - 0s - loss: 0.5123 - accuracy: 0.8000 - 11ms/epoch - 11ms/step\n",
            "Epoch 46/50\n",
            "1/1 - 0s - loss: 0.4997 - accuracy: 0.8000 - 11ms/epoch - 11ms/step\n",
            "Epoch 47/50\n",
            "1/1 - 0s - loss: 0.4875 - accuracy: 0.8000 - 10ms/epoch - 10ms/step\n",
            "Epoch 48/50\n",
            "1/1 - 0s - loss: 0.4756 - accuracy: 0.8000 - 11ms/epoch - 11ms/step\n",
            "Epoch 49/50\n",
            "1/1 - 0s - loss: 0.4642 - accuracy: 0.8000 - 11ms/epoch - 11ms/step\n",
            "Epoch 50/50\n",
            "1/1 - 0s - loss: 0.4533 - accuracy: 0.8000 - 12ms/epoch - 12ms/step\n"
          ]
        },
        {
          "output_type": "execute_result",
          "data": {
            "text/plain": [
              "<keras.src.callbacks.History at 0x7c81de673f10>"
            ]
          },
          "metadata": {},
          "execution_count": 1
        }
      ],
      "source": [
        "import numpy as np\n",
        "from keras.models import Sequential\n",
        "from keras.layers import SimpleRNN, Dense, Embedding\n",
        "from keras.preprocessing.text import Tokenizer\n",
        "from keras.preprocessing.sequence import pad_sequences\n",
        "from keras.utils import to_categorical\n",
        "\n",
        "# Generating some example sequential data\n",
        "sentences = ['I love learning','I love python','I hate school',\n",
        "             'Recurrent Neural Networks are powerful']\n",
        "# Tokenizing the words\n",
        "tokenizer = Tokenizer()\n",
        "tokenizer.fit_on_texts(sentences)\n",
        "total_words = len(tokenizer.word_index) + 1\n",
        "\n",
        "# Creating input sequences and their corresponding next words\n",
        "input_sequences = []\n",
        "for sentence in sentences:\n",
        "    tokenized_sentence = tokenizer.texts_to_sequences([sentence])[0]\n",
        "    for i in range(1, len(tokenized_sentence)):\n",
        "        n_gram_sequence = tokenized_sentence[:i+1]\n",
        "        input_sequences.append(n_gram_sequence)\n",
        "\n",
        "# Padding sequences for consistent input size\n",
        "max_sequence_length = max([len(seq) for seq in input_sequences])\n",
        "input_sequences = pad_sequences(input_sequences, maxlen=max_sequence_length, padding='pre')\n",
        "\n",
        "# Creating input and output data\n",
        "X, y = input_sequences[:, :-1], input_sequences[:, -1]\n",
        "y = to_categorical(y, num_classes=total_words)\n",
        "\n",
        "# Building a simple RNN model\n",
        "model = Sequential()\n",
        "model.add(Embedding(input_dim=total_words, output_dim=50, input_length=max_sequence_length-1))\n",
        "model.add(SimpleRNN(100, return_sequences=True))\n",
        "model.add(SimpleRNN(100))\n",
        "model.add(Dense(total_words, activation='softmax'))\n",
        "\n",
        "# Compiling the model\n",
        "model.compile(optimizer='adam', loss='categorical_crossentropy', metrics=['accuracy'])\n",
        "\n",
        "# Training the model\n",
        "model.fit(X, y, epochs=50, verbose=2)\n",
        "\n",
        "\n"
      ]
    },
    {
      "cell_type": "code",
      "source": [
        "# Generating text using the trained model\n",
        "seed_text = input(\"Enter the starting word: \")\n",
        "next_words = int(input(\"Enter how many words to predict: \"))\n",
        "\n",
        "for _ in range(next_words):\n",
        "    tokenized_seed = tokenizer.texts_to_sequences([seed_text])[0]\n",
        "    tokenized_seed = pad_sequences([tokenized_seed], maxlen=max_sequence_length-1, padding='pre')\n",
        "    predicted_word_index = np.argmax(model.predict(tokenized_seed), axis=-1)\n",
        "    predicted_word = tokenizer.index_word[predicted_word_index[0]]\n",
        "    seed_text += \" \" + predicted_word\n",
        "\n",
        "print(seed_text)"
      ],
      "metadata": {
        "colab": {
          "base_uri": "https://localhost:8080/"
        },
        "id": "A8XwYB-9dSnb",
        "outputId": "f322d969-bbd0-4e0d-c636-655a593f6a71"
      },
      "execution_count": 3,
      "outputs": [
        {
          "output_type": "stream",
          "name": "stdout",
          "text": [
            "Enter the starting word: i hate\n",
            "Enter how many words to predict: 2\n",
            "1/1 [==============================] - 0s 24ms/step\n",
            "1/1 [==============================] - 0s 22ms/step\n",
            "i hate school love\n"
          ]
        }
      ]
    }
  ]
}